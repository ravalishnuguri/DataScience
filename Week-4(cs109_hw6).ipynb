{
 "cells": [
  {
   "cell_type": "markdown",
   "metadata": {},
   "source": [
    "# CS 109A/STAT 121A/AC 209A/CSCI E-109A: Homework 6\n",
    "# Reg-Logistic Regression, ROC, and Data Imputation\n",
    "\n",
    "**Harvard University**<br/>\n",
    "**Fall 2017**<br/>\n",
    "**Instructors**: Pavlos Protopapas, Kevin Rader, Rahul Dave, Margo Levine\n",
    "\n",
    "---\n",
    "\n",
    "### INSTRUCTIONS\n",
    "\n",
    "- To submit your assignment follow the instructions given in canvas.\n",
    "- Restart the kernel and run the whole notebook again before you submit. \n",
    "- Do not include your name(s) in the notebook if you are submitting as a group. \n",
    "- If you submit individually and you have worked with someone, please include the name of your [one] partner below. \n",
    "\n",
    "---"
   ]
  },
  {
   "cell_type": "markdown",
   "metadata": {},
   "source": [
    "Your partner's name (if you submit separately):\n",
    "\n",
    "Enrollment Status (109A, 121A, 209A, or E109A):"
   ]
  },
  {
   "cell_type": "markdown",
   "metadata": {},
   "source": [
    "Import libraries:"
   ]
  },
  {
   "cell_type": "code",
   "execution_count": 1,
   "metadata": {},
   "outputs": [],
   "source": [
    "import numpy as np\n",
    "import pandas as pd\n",
    "import matplotlib\n",
    "import matplotlib.pyplot as plt\n",
    "from sklearn.linear_model import LogisticRegressionCV\n",
    "import sklearn.metrics as metrics\n",
    "from sklearn.preprocessing import PolynomialFeatures\n",
    "from sklearn.discriminant_analysis import LinearDiscriminantAnalysis\n",
    "from sklearn.discriminant_analysis import QuadraticDiscriminantAnalysis\n",
    "from sklearn.neighbors import KNeighborsClassifier\n",
    "from sklearn.tree import DecisionTreeClassifier\n",
    "from sklearn.model_selection import cross_val_score\n",
    "from sklearn.metrics import accuracy_score\n",
    "\n",
    "from sklearn.tree import export_graphviz\n",
    "from IPython.display import Image\n",
    "from IPython.display import display\n",
    "%matplotlib inline"
   ]
  },
  {
   "cell_type": "code",
   "execution_count": 2,
   "metadata": {},
   "outputs": [],
   "source": [
    "df = pd.read_csv(\"hw6_dataset.csv\")"
   ]
  },
  {
   "cell_type": "code",
   "execution_count": 3,
   "metadata": {},
   "outputs": [
    {
     "data": {
      "text/plain": [
       "FrozenList([None])"
      ]
     },
     "execution_count": 3,
     "metadata": {},
     "output_type": "execute_result"
    }
   ],
   "source": [
    "df.columns.names"
   ]
  },
  {
   "cell_type": "markdown",
   "metadata": {},
   "source": [
    "## Automated Breast Cancer Detection\n",
    "\n",
    "In this homework, we will consider the problem of early breast cancer detection from X-ray images. Specifically, given a candidate region of interest (ROI) from an X-ray image of a patient's breast, the goal is to predict if the region corresponds to a malignant tumor (label 1) or is normal (label 0). The training and test data sets for this problem is provided in the file `hw6_dataset.csv`. Each row in these files corresponds to a ROI in a patient's X-ray, with columns 1-117 containing features computed using standard image processing algorithms. The last column contains the class label, and is based on a radiologist's opinion or a biopsy. This data was obtained from the KDD Cup 2008 challenge.\n",
    "\n",
    "The data set contain a total of 69,098 candidate ROIs, of which only 409 are malignant, while the remaining are all normal. \n",
    "\n",
    "*Note*: be careful of reading/treating column names and row names in this data set."
   ]
  },
  {
   "cell_type": "markdown",
   "metadata": {},
   "source": [
    "## Question 1: Beyond Classification Accuracy\n",
    "\n",
    "\n",
    "0.  Split the data set into a training set and a testing set.  The training set should be 75% of the original data set, and the testing set 25%.  Use `np.random.seed(9001)`.\n",
    "\n",
    "1. Fit a logistic regression classifier to the training set and report the  accuracy of the classifier on the test set. You should use $L_2$ regularization in logistic regression, with the regularization parameter tuned using cross-validation. \n",
    "    1. How does the fitted model compare with a classifier that predicts 'normal' (label 0) on all patients? \n",
    "    2. Do you think the difference in the classification accuracies are large enough to declare logistic regression as a better classifier than the all 0's classifier? Why or why not?\n",
    "    \n",
    "For applications with imbalanced class labels, in this case when there are many more healthy subjects ($Y=0$) than those with cancer ($Y=1$), the classification accuracy may not be the best metric to evaluate a classifier's performance. As an alternative, we could analyze the confusion table for the classifier. \n",
    "\n",
    "<ol start=\"3\">\n",
    "<li> Compute the confusion table for both the fitted classifier and the classifier that predicts all 0's.</li>\n",
    "<li> Using the entries of the confusion table compute the *true positive rate* and the *true negative rate* for the two classifiers. Explain what these evaluation metrics mean for the specific task of cancer detection. Based on the observed metrics, comment on whether the fitted model is better than the all 0's classifier.</li>\n",
    "<li> What is the *false positive rate* of the fitted classifier, and how is it related to its true positive and true negative rate? Why is a classifier with high false positive rate undesirable for a cancer detection task?</li>\n",
    "</ol>\n",
    "*Hint:* You may use the `metrics.confusion_matrix` function to compute the confusion matrix for a classification model."
   ]
  },
  {
   "cell_type": "code",
   "execution_count": 4,
   "metadata": {},
   "outputs": [],
   "source": [
    "np.random.seed(9001)"
   ]
  },
  {
   "cell_type": "code",
   "execution_count": 5,
   "metadata": {},
   "outputs": [
    {
     "data": {
      "text/plain": [
       "array([ True, False, False, ...,  True, False,  True])"
      ]
     },
     "execution_count": 5,
     "metadata": {},
     "output_type": "execute_result"
    }
   ],
   "source": [
    "msk = np.random.rand(len(df)) < 0.75\n",
    "msk"
   ]
  },
  {
   "cell_type": "code",
   "execution_count": 6,
   "metadata": {},
   "outputs": [],
   "source": [
    "data_train = df[msk]\n",
    "data_test = df[~msk]\n",
    "orig_columns = list(data_train.columns.values)\n",
    "new_columns = []"
   ]
  },
  {
   "cell_type": "code",
   "execution_count": 7,
   "metadata": {},
   "outputs": [],
   "source": [
    "for x in range (len(orig_columns) - 1):\n",
    "    #print(orig_columns[x])\n",
    "    index_of_e = orig_columns[x].index('e')\n",
    "    revised_string = orig_columns[x][:index_of_e + 4]\n",
    "    #print(revised_string)\n",
    "    converted_string = float(revised_string)\n",
    "    new_columns.append(str(converted_string))\n",
    "new_columns.append('Class Label')"
   ]
  },
  {
   "cell_type": "code",
   "execution_count": 8,
   "metadata": {},
   "outputs": [
    {
     "name": "stdout",
     "output_type": "stream",
     "text": [
      "['-0.144', '-0.143', '-0.116', '-0.103', '0.226', '0.21', '-0.98', '-0.78', '-0.474', '-0.447', '-0.143', '-0.0524', '0.26', '0.209', '-0.212', '0.57', '-0.939', '-0.398', '0.395', '0.414', '0.00498', '1.31', '-0.955', '0.706', '0.952', '0.81', '1.01', '-0.66', '0.813', '-0.429', '1.54', '0.171', '0.825', '0.755', '0.15', '0.505', '-0.235', '-0.219', '-0.128', '-1.03', '0.16', '0.259', '0.321', '0.536', '-0.466', '-0.25', '-1.27', '-0.744', '-0.736', '-1.24', '-0.726', '-1.39', '-0.631', '-0.0929', '-0.0882', '-0.0834', '-0.0745', '0.471', '0.907', '-0.749', '-1.24', '-0.741', '-0.72', '-0.707', '-0.698', '0.0627', '0.32', '-0.483', '0.677', '0.728', '-1.23', '0.776', '-0.669', '-0.159', '-0.162', '-0.169', '-0.656', '0.953', '0.408', '-0.982', '-0.986', '-0.137', '0.179', '0.267', '0.28', '-1.23', '-1.21', '-1.19', '0.448', '1.55', '1.55', '1.55', '0.357', '-0.945', '-0.137', '-1.28', '-1.41', '-0.896', '-0.667', '-1.01', '-0.56', '-0.563', '-0.566', '-0.804', '-0.618', '0.0344', '0.426', '-0.738', '0.925', '0.516', '0.344', '0.906', '-1.13', '-0.552', '0.553', '-0.417', '0.256', 'Class Label']\n"
     ]
    }
   ],
   "source": [
    "print(new_columns)"
   ]
  },
  {
   "cell_type": "code",
   "execution_count": 9,
   "metadata": {},
   "outputs": [
    {
     "data": {
      "text/html": [
       "<div>\n",
       "<style scoped>\n",
       "    .dataframe tbody tr th:only-of-type {\n",
       "        vertical-align: middle;\n",
       "    }\n",
       "\n",
       "    .dataframe tbody tr th {\n",
       "        vertical-align: top;\n",
       "    }\n",
       "\n",
       "    .dataframe thead th {\n",
       "        text-align: right;\n",
       "    }\n",
       "</style>\n",
       "<table border=\"1\" class=\"dataframe\">\n",
       "  <thead>\n",
       "    <tr style=\"text-align: right;\">\n",
       "      <th></th>\n",
       "      <th>-0.144</th>\n",
       "      <th>-0.143</th>\n",
       "      <th>-0.116</th>\n",
       "      <th>-0.103</th>\n",
       "      <th>0.226</th>\n",
       "      <th>0.21</th>\n",
       "      <th>-0.98</th>\n",
       "      <th>-0.78</th>\n",
       "      <th>-0.474</th>\n",
       "      <th>-0.447</th>\n",
       "      <th>...</th>\n",
       "      <th>0.925</th>\n",
       "      <th>0.516</th>\n",
       "      <th>0.344</th>\n",
       "      <th>0.906</th>\n",
       "      <th>-1.13</th>\n",
       "      <th>-0.552</th>\n",
       "      <th>0.553</th>\n",
       "      <th>-0.417</th>\n",
       "      <th>0.256</th>\n",
       "      <th>Class Label</th>\n",
       "    </tr>\n",
       "  </thead>\n",
       "  <tbody>\n",
       "    <tr>\n",
       "      <th>0</th>\n",
       "      <td>-0.0110</td>\n",
       "      <td>0.138</td>\n",
       "      <td>-0.223</td>\n",
       "      <td>-0.1730</td>\n",
       "      <td>0.188</td>\n",
       "      <td>0.284</td>\n",
       "      <td>-0.0522</td>\n",
       "      <td>-0.256</td>\n",
       "      <td>0.129</td>\n",
       "      <td>0.427</td>\n",
       "      <td>...</td>\n",
       "      <td>-0.593</td>\n",
       "      <td>0.4520</td>\n",
       "      <td>0.00785</td>\n",
       "      <td>-0.533</td>\n",
       "      <td>-0.0789</td>\n",
       "      <td>0.705</td>\n",
       "      <td>0.906</td>\n",
       "      <td>0.216</td>\n",
       "      <td>-0.0723</td>\n",
       "      <td>0.0</td>\n",
       "    </tr>\n",
       "    <tr>\n",
       "      <th>3</th>\n",
       "      <td>0.2790</td>\n",
       "      <td>-0.197</td>\n",
       "      <td>0.127</td>\n",
       "      <td>0.0973</td>\n",
       "      <td>-0.213</td>\n",
       "      <td>-0.150</td>\n",
       "      <td>-1.3200</td>\n",
       "      <td>-0.994</td>\n",
       "      <td>-1.110</td>\n",
       "      <td>-1.090</td>\n",
       "      <td>...</td>\n",
       "      <td>-0.640</td>\n",
       "      <td>0.4850</td>\n",
       "      <td>0.29500</td>\n",
       "      <td>0.403</td>\n",
       "      <td>-1.1200</td>\n",
       "      <td>-0.343</td>\n",
       "      <td>0.468</td>\n",
       "      <td>-0.820</td>\n",
       "      <td>0.4350</td>\n",
       "      <td>0.0</td>\n",
       "    </tr>\n",
       "    <tr>\n",
       "      <th>5</th>\n",
       "      <td>0.0569</td>\n",
       "      <td>0.192</td>\n",
       "      <td>0.302</td>\n",
       "      <td>0.2720</td>\n",
       "      <td>-0.484</td>\n",
       "      <td>-0.473</td>\n",
       "      <td>0.3480</td>\n",
       "      <td>0.256</td>\n",
       "      <td>-0.607</td>\n",
       "      <td>-0.355</td>\n",
       "      <td>...</td>\n",
       "      <td>0.206</td>\n",
       "      <td>-0.0599</td>\n",
       "      <td>-1.07000</td>\n",
       "      <td>-0.536</td>\n",
       "      <td>0.8640</td>\n",
       "      <td>0.527</td>\n",
       "      <td>0.282</td>\n",
       "      <td>0.817</td>\n",
       "      <td>-0.2830</td>\n",
       "      <td>0.0</td>\n",
       "    </tr>\n",
       "    <tr>\n",
       "      <th>6</th>\n",
       "      <td>0.0184</td>\n",
       "      <td>0.101</td>\n",
       "      <td>-0.681</td>\n",
       "      <td>-0.5900</td>\n",
       "      <td>1.530</td>\n",
       "      <td>1.500</td>\n",
       "      <td>-0.5560</td>\n",
       "      <td>-0.428</td>\n",
       "      <td>-0.583</td>\n",
       "      <td>-0.772</td>\n",
       "      <td>...</td>\n",
       "      <td>0.124</td>\n",
       "      <td>0.3070</td>\n",
       "      <td>0.35700</td>\n",
       "      <td>-0.380</td>\n",
       "      <td>0.1580</td>\n",
       "      <td>0.846</td>\n",
       "      <td>0.704</td>\n",
       "      <td>0.760</td>\n",
       "      <td>-0.1250</td>\n",
       "      <td>0.0</td>\n",
       "    </tr>\n",
       "    <tr>\n",
       "      <th>9</th>\n",
       "      <td>-0.0748</td>\n",
       "      <td>-0.432</td>\n",
       "      <td>0.923</td>\n",
       "      <td>0.7930</td>\n",
       "      <td>-1.040</td>\n",
       "      <td>-1.010</td>\n",
       "      <td>-1.9500</td>\n",
       "      <td>-1.560</td>\n",
       "      <td>-0.590</td>\n",
       "      <td>-0.575</td>\n",
       "      <td>...</td>\n",
       "      <td>-1.270</td>\n",
       "      <td>1.3600</td>\n",
       "      <td>0.38700</td>\n",
       "      <td>1.290</td>\n",
       "      <td>-1.2100</td>\n",
       "      <td>-2.050</td>\n",
       "      <td>-0.357</td>\n",
       "      <td>-2.540</td>\n",
       "      <td>0.7670</td>\n",
       "      <td>0.0</td>\n",
       "    </tr>\n",
       "  </tbody>\n",
       "</table>\n",
       "<p>5 rows × 118 columns</p>\n",
       "</div>"
      ],
      "text/plain": [
       "   -0.144  -0.143  -0.116  -0.103  0.226   0.21   -0.98  -0.78  -0.474  \\\n",
       "0 -0.0110   0.138  -0.223 -0.1730  0.188  0.284 -0.0522 -0.256   0.129   \n",
       "3  0.2790  -0.197   0.127  0.0973 -0.213 -0.150 -1.3200 -0.994  -1.110   \n",
       "5  0.0569   0.192   0.302  0.2720 -0.484 -0.473  0.3480  0.256  -0.607   \n",
       "6  0.0184   0.101  -0.681 -0.5900  1.530  1.500 -0.5560 -0.428  -0.583   \n",
       "9 -0.0748  -0.432   0.923  0.7930 -1.040 -1.010 -1.9500 -1.560  -0.590   \n",
       "\n",
       "   -0.447  ...  0.925   0.516    0.344  0.906   -1.13  -0.552  0.553  -0.417  \\\n",
       "0   0.427  ... -0.593  0.4520  0.00785 -0.533 -0.0789   0.705  0.906   0.216   \n",
       "3  -1.090  ... -0.640  0.4850  0.29500  0.403 -1.1200  -0.343  0.468  -0.820   \n",
       "5  -0.355  ...  0.206 -0.0599 -1.07000 -0.536  0.8640   0.527  0.282   0.817   \n",
       "6  -0.772  ...  0.124  0.3070  0.35700 -0.380  0.1580   0.846  0.704   0.760   \n",
       "9  -0.575  ... -1.270  1.3600  0.38700  1.290 -1.2100  -2.050 -0.357  -2.540   \n",
       "\n",
       "    0.256  Class Label  \n",
       "0 -0.0723          0.0  \n",
       "3  0.4350          0.0  \n",
       "5 -0.2830          0.0  \n",
       "6 -0.1250          0.0  \n",
       "9  0.7670          0.0  \n",
       "\n",
       "[5 rows x 118 columns]"
      ]
     },
     "execution_count": 9,
     "metadata": {},
     "output_type": "execute_result"
    }
   ],
   "source": [
    "data_train.columns = new_columns\n",
    "data_test.columns = new_columns\n",
    "\n",
    "data_train.head()"
   ]
  },
  {
   "cell_type": "code",
   "execution_count": 10,
   "metadata": {},
   "outputs": [],
   "source": [
    "y_train = data_train['Class Label'].values\n",
    "X_train = data_train.values"
   ]
  },
  {
   "cell_type": "code",
   "execution_count": 11,
   "metadata": {},
   "outputs": [],
   "source": [
    "y_test = data_test['Class Label'].values\n",
    "X_test = data_test.values"
   ]
  },
  {
   "cell_type": "code",
   "execution_count": 12,
   "metadata": {},
   "outputs": [
    {
     "name": "stderr",
     "output_type": "stream",
     "text": [
      "c:\\users\\ravalish\\appdata\\local\\programs\\python\\python37-32\\lib\\site-packages\\sklearn\\linear_model\\logistic.py:947: ConvergenceWarning: lbfgs failed to converge. Increase the number of iterations.\n",
      "  \"of iterations.\", ConvergenceWarning)\n"
     ]
    }
   ],
   "source": [
    "from sklearn.linear_model import LogisticRegression\n",
    "\n",
    "clf = LogisticRegression(random_state=0, solver='lbfgs', multi_class='multinomial').fit(X_train, y_train)"
   ]
  },
  {
   "cell_type": "code",
   "execution_count": 13,
   "metadata": {},
   "outputs": [
    {
     "name": "stdout",
     "output_type": "stream",
     "text": [
      "\n",
      "\n",
      "The coefficients\n",
      "The optimized L2 regularization paramater id: [[-5.44112615e-03  6.80642576e-04  3.09151188e-01  2.66953925e-01\n",
      "  -1.84133578e-01 -1.66968936e-01  7.06328206e-02 -9.76875188e-04\n",
      "   5.53104708e-02 -3.22575828e-02 -2.99078394e-02  7.84676665e-02\n",
      "  -1.18637123e-01  1.52506120e-02  2.05448158e-02 -1.68288469e-02\n",
      "  -5.53465450e-02 -5.91006274e-02 -7.16507895e-02 -4.36696148e-02\n",
      "   8.61663541e-02  3.19947346e-02  5.75566862e-02 -2.36847985e-02\n",
      "   1.59849205e-01 -1.73521866e-02  2.18425053e-02 -6.60583523e-02\n",
      "  -6.52913392e-03 -2.83762149e-02 -1.57706204e-02  2.74831852e-02\n",
      "   1.16871226e-01  4.17356650e-02  4.09838181e-02 -3.16392789e-02\n",
      "   4.34994417e-02  3.88653385e-02 -1.36868077e-02 -2.00794952e-02\n",
      "   8.78438270e-03  1.85816913e-02  2.39886994e-02 -2.89970306e-02\n",
      "   8.17872539e-03  1.46585791e-02  5.59168210e-02 -1.06716367e-01\n",
      "  -1.03819007e-01 -3.72279613e-02 -1.05758896e-01  5.48134208e-02\n",
      "   1.74203126e-02 -2.94514589e-02 -2.35360147e-02 -1.97738748e-02\n",
      "  -1.38576911e-02  1.45179423e-01 -1.32841059e-01  4.72822795e-02\n",
      "  -2.76402806e-02  4.62919107e-02  4.17222089e-02  4.84105668e-02\n",
      "   5.15668327e-02 -8.89933443e-03  1.37275561e-01 -5.69475145e-02\n",
      "  -7.31069821e-03  7.91418554e-03 -1.52106460e-02  2.01235600e-02\n",
      "   2.47168251e-02  5.81707244e-03  4.55310092e-03  4.08188265e-03\n",
      "   2.52351996e-02  4.55703169e-02  7.16881531e-03  3.48021039e-02\n",
      "   3.62131833e-02 -2.08225472e-02  1.45393303e-02 -7.23992742e-03\n",
      "   1.56994322e-02  1.49385628e-02  2.94821704e-02  5.96936547e-02\n",
      "   9.89906074e-02 -2.65988034e-02 -2.97292339e-02 -2.93848644e-02\n",
      "  -4.43875277e-02 -4.09123875e-02 -7.07904088e-04 -1.36288407e-01\n",
      "  -2.92442935e-02 -2.03006742e-02 -3.08392027e-02  4.47929442e-02\n",
      "   9.14511296e-02  5.38592408e-02 -9.84717095e-02 -2.93443391e-02\n",
      "   4.14347298e-02 -2.75407279e-02 -4.60361384e-02  1.92264833e-02\n",
      "   4.07218921e-02 -3.62250004e-02 -4.31197952e-02 -9.81130722e-02\n",
      "  -3.79692226e-02 -3.33385273e-02  6.89784124e-03  1.67030056e-02\n",
      "  -3.32208902e-02  5.69723853e+00]]\n",
      "Estimated beta0: \n",
      " [-5.0554142]\n"
     ]
    }
   ],
   "source": [
    "print('\\n')\n",
    "print(\"The coefficients\")\n",
    "print(\"The optimized L2 regularization paramater id:\", clf.coef_)\n",
    "print('Estimated beta0: \\n', clf.intercept_)"
   ]
  },
  {
   "cell_type": "code",
   "execution_count": 14,
   "metadata": {},
   "outputs": [],
   "source": [
    "#scoring\n",
    "clf_y_pred_test = clf.predict(X_test)\n",
    "test_df = pd.DataFrame(clf_y_pred_test)"
   ]
  },
  {
   "cell_type": "code",
   "execution_count": 18,
   "metadata": {},
   "outputs": [
    {
     "name": "stdout",
     "output_type": "stream",
     "text": [
      "malignant:  103.0\n"
     ]
    }
   ],
   "source": [
    "Total = test_df[0].sum()\n",
    "print(\"malignant: \", Total)"
   ]
  },
  {
   "cell_type": "code",
   "execution_count": 19,
   "metadata": {},
   "outputs": [],
   "source": [
    "test_df['All Normal'] = 0"
   ]
  },
  {
   "cell_type": "code",
   "execution_count": 20,
   "metadata": {},
   "outputs": [],
   "source": [
    "# Reset indexes so copy will work\n",
    "test_df = test_df.reset_index(drop=True)\n",
    "data_test = data_test.reset_index(drop=True)\n",
    "test_df['Class Label'] = data_test['Class Label']"
   ]
  },
  {
   "cell_type": "code",
   "execution_count": 23,
   "metadata": {},
   "outputs": [],
   "source": [
    "def parameters(source_data, prediction_data):\n",
    "    false_negative = 0\n",
    "    false_positive = 0\n",
    "    correct_assessment = 0\n",
    "    for result in range(0, len(prediction_data)):\n",
    "        if int(prediction_data[result]) == 1 and int(source_data[result]) == 0:\n",
    "            false_positive += 1\n",
    "        if int(prediction_data[result]) == 0 and int(source_data[result]) == 1:\n",
    "            false_negative += 1\n",
    "        if (int(prediction_data[result]) == 1 and int(source_data[result]) == 1) or (int(prediction_data[result]) == 0 and int(source_data[result]) == 0):\n",
    "            correct_assessment += 1\n",
    "    print ()\n",
    "    print (\"False Positives: \", false_positive)\n",
    "    print (\"False Negatives: \", false_negative)\n",
    "    print (\"Correct Assessment: \", correct_assessment)\n",
    "\n",
    "    print (\"Classification Accuracy: \", 1 - (false_positive + false_negative) / len(source_data))"
   ]
  },
  {
   "cell_type": "code",
   "execution_count": 25,
   "metadata": {},
   "outputs": [
    {
     "name": "stdout",
     "output_type": "stream",
     "text": [
      "Classifier applied to Test Set:\n",
      "\n",
      "False Positives:  0\n",
      "False Negatives:  1\n",
      "Correct Assessment:  17087\n",
      "Classification Accuracy:  0.9999414794007491\n",
      "[[16984     0]\n",
      " [    1   103]]\n"
     ]
    }
   ],
   "source": [
    "# Confusion Matrix\n",
    "from sklearn.metrics import confusion_matrix\n",
    "print('Classifier applied to Test Set:') \n",
    "parameters(test_df['Class Label'], test_df[0])\n",
    "print(confusion_matrix(y_test, clf.predict(X_test)))"
   ]
  },
  {
   "cell_type": "code",
   "execution_count": 26,
   "metadata": {},
   "outputs": [
    {
     "name": "stdout",
     "output_type": "stream",
     "text": [
      "Classifier that predicts all normal:\n",
      "\n",
      "False Positives:  0\n",
      "False Negatives:  104\n",
      "Correct Assessment:  16984\n",
      "Classification Accuracy:  0.9939138576779026\n",
      "[[16984     0]\n",
      " [  104     0]]\n"
     ]
    }
   ],
   "source": [
    "print('Classifier that predicts all normal:')\n",
    "parameters(test_df['Class Label'], test_df['All Normal'])\n",
    "print(confusion_matrix(y_test, test_df['All Normal']))"
   ]
  },
  {
   "cell_type": "markdown",
   "metadata": {},
   "source": [
    "## Question 2: ROC Analysis\n",
    "\n",
    "Another powerful diagnostic tool for class-imbalanced classification tasks is the Receiver Operating Characteristic (ROC) curve. Notice that the default logistic regression classifier in `sklearn` classifies a data point by thresholding the predicted class probability $\\hat{P}(Y=1)$ at 0.5. By using a different threshold, we can adjust the trade-off between the true positive rate (TPR) and false positive rate (FPR) of the classifier. The ROC curve allows us to visualize this trade-off across all possible thresholds.\n",
    "\n",
    "\n",
    "1. Display the ROC curve for the fitted classifier on the *test set*. In the same plot, also display the ROC curve for the all 0's classifier. How do the two curves compare?\n",
    "\n",
    "2.  Compute the highest TPR that can be achieved by the classifier at each of the following FPR's, and the thresholds at which they are achieved. Based on your results, comment on how the threshold influences a classifier's FPR.\n",
    "    - FPR = 0\n",
    "    - FPR = 0.1\n",
    "    - FPR = 0.5\n",
    "    - FPR = 0.9\n",
    "- Suppose a clinician told you that diagnosing a cancer patient as normal is *twice* as critical an error as diagnosing a normal patient as having cancer. Based on this information, what threshold would you recommend the clinician to use? What is the TPR and FPR of the classifier at this threshold? \n",
    "\n",
    "- Compute the area under the ROC curve (AUC) for both the fitted classifier and the all 0's classifier. How does the difference in the AUCs of the two classifiers compare with the difference between their classification accuracies in Question 1, Part 2(A)? \n",
    "\n",
    "*Hint:* You may use the `metrics.roc_curve` function to compute the ROC curve for a classification model and the `metrics.roc_auc_score` function to compute the AUC for the model."
   ]
  },
  {
   "cell_type": "code",
   "execution_count": 27,
   "metadata": {},
   "outputs": [],
   "source": [
    "from sklearn import metrics"
   ]
  },
  {
   "cell_type": "code",
   "execution_count": 28,
   "metadata": {},
   "outputs": [
    {
     "data": {
      "image/png": "[encoded data removed]",
      "text/plain": [
       "<Figure size 432x288 with 1 Axes>"
      ]
     },
     "metadata": {
      "needs_background": "light"
     },
     "output_type": "display_data"
    }
   ],
   "source": [
    "##Computing false and true positive rates\n",
    "fpr, tpr,_= metrics.roc_curve(clf.predict(X_train),y_train,drop_intermediate=False)\n",
    "\n",
    "import matplotlib.pyplot as plt\n",
    "plt.figure()\n",
    "##Adding the ROC\n",
    "plt.plot(fpr, tpr, color='red',\n",
    " lw=2, label='ROC curve')\n",
    "##Random FPR and TPR\n",
    "plt.plot([0, 1], [0, 1], color='blue', lw=2, linestyle='--')\n",
    "##Title and label\n",
    "plt.xlabel('FPR')\n",
    "plt.ylabel('TPR')\n",
    "plt.title('ROC curve')\n",
    "plt.show()"
   ]
  },
  {
   "cell_type": "code",
   "execution_count": 29,
   "metadata": {},
   "outputs": [
    {
     "data": {
      "text/plain": [
       "17088"
      ]
     },
     "execution_count": 29,
     "metadata": {},
     "output_type": "execute_result"
    }
   ],
   "source": [
    "len(clf.predict_proba(X_test)[:,1])"
   ]
  },
  {
   "cell_type": "code",
   "execution_count": 30,
   "metadata": {},
   "outputs": [],
   "source": [
    "fprs = [0,.1,.5,.9]\n",
    "fpr, tpr, thresholds= metrics.roc_curve(y_test, clf.predict_proba(X_test)[:,1])"
   ]
  },
  {
   "cell_type": "code",
   "execution_count": 31,
   "metadata": {},
   "outputs": [
    {
     "name": "stdout",
     "output_type": "stream",
     "text": [
      "fpr  [0.00000000e+00 0.00000000e+00 0.00000000e+00 5.88789449e-05\n",
      " 5.88789449e-05 3.47385775e-02 3.48563354e-02 1.16933585e-01\n",
      " 1.17051342e-01 5.95089496e-01 5.95207254e-01 8.25836081e-01\n",
      " 8.25953839e-01 1.00000000e+00]\n"
     ]
    }
   ],
   "source": [
    "print(\"fpr \", fpr)"
   ]
  },
  {
   "cell_type": "code",
   "execution_count": 32,
   "metadata": {},
   "outputs": [
    {
     "name": "stdout",
     "output_type": "stream",
     "text": [
      "tpr  [0.         0.00961538 0.99038462 0.99038462 1.         1.\n",
      " 1.         1.         1.         1.         1.         1.\n",
      " 1.         1.        ]\n"
     ]
    }
   ],
   "source": [
    "print(\"tpr \", tpr)"
   ]
  },
  {
   "cell_type": "code",
   "execution_count": 33,
   "metadata": {},
   "outputs": [
    {
     "name": "stdout",
     "output_type": "stream",
     "text": [
      "thresholds:  [1.99971864e+00 9.99718640e-01 6.52279003e-01 1.83779180e-01\n",
      " 1.20818812e-01 5.07325560e-04 5.06839408e-04 2.35321109e-04\n",
      " 2.35225264e-04 3.35102449e-05 3.34997468e-05 1.07109016e-05\n",
      " 1.07066776e-05 4.84564738e-41]\n"
     ]
    }
   ],
   "source": [
    "print(\"thresholds: \", thresholds)"
   ]
  },
  {
   "cell_type": "markdown",
   "metadata": {
    "collapsed": true
   },
   "source": [
    "## Question 3: Missing data\n",
    "\n",
    "In this problem you are given a different data set, `hw6_dataset_missing.csv`, that is  similar to the one you used above (same column definitions and same conditions), however this data set contains missing values. \n",
    "\n",
    "*Note*: be careful of reading/treating column names and row names in this data set as well, it *may* be different than the first data set.\n",
    "\n",
    "\n",
    "1. Remove all observations that contain and missing values, split the dataset into a 75-25 train-test split, and fit the regularized logistic regression as in Question 1 (use `LogisticRegressionCV` again to retune).  Report the overall classification rate and TPR in the test set.\n",
    "2. Restart with a fresh copy of the data in `hw6_dataset_missing.csv` and impute the missing data via mean imputation.  Split the data 75-25 and fit the regularized logistic regression model.  Report the overall classification rate and TPR in the test set.  \n",
    "3. Again restart with a fresh copy of the data in `hw6_dataset_missing.csv` and impute the missing data via a model-based imputation method. Once again split the data 75-25 and fit the regularized logistic regression model.  Report the overall classification rate and TPR in the test set.  \n",
    "4. Compare the results in the 3 previous parts of this problem.  Prepare a paragraph (5-6 sentences) discussing the results, the computational complexity of the methods, and conjecture and explain why you get the results that you see.\n",
    "\n"
   ]
  },
  {
   "cell_type": "code",
   "execution_count": 34,
   "metadata": {},
   "outputs": [],
   "source": [
    "np.random.seed(9001)\n",
    "df = pd.read_csv('HW6_dataset_missing.csv')\n",
    "msk = np.random.rand(len(df)) < 0.75\n",
    "data_train = df[msk]\n",
    "data_test = df[~msk]\n",
    "data_train = data_train.dropna()\n",
    "data_test = data_test.dropna()"
   ]
  },
  {
   "cell_type": "code",
   "execution_count": 35,
   "metadata": {},
   "outputs": [
    {
     "data": {
      "text/html": [
       "<div>\n",
       "<style scoped>\n",
       "    .dataframe tbody tr th:only-of-type {\n",
       "        vertical-align: middle;\n",
       "    }\n",
       "\n",
       "    .dataframe tbody tr th {\n",
       "        vertical-align: top;\n",
       "    }\n",
       "\n",
       "    .dataframe thead th {\n",
       "        text-align: right;\n",
       "    }\n",
       "</style>\n",
       "<table border=\"1\" class=\"dataframe\">\n",
       "  <thead>\n",
       "    <tr style=\"text-align: right;\">\n",
       "      <th></th>\n",
       "      <th>Unnamed: 0</th>\n",
       "      <th>1</th>\n",
       "      <th>2</th>\n",
       "      <th>3</th>\n",
       "      <th>4</th>\n",
       "      <th>5</th>\n",
       "      <th>6</th>\n",
       "      <th>7</th>\n",
       "      <th>8</th>\n",
       "      <th>9</th>\n",
       "      <th>...</th>\n",
       "      <th>109</th>\n",
       "      <th>110</th>\n",
       "      <th>111</th>\n",
       "      <th>112</th>\n",
       "      <th>113</th>\n",
       "      <th>114</th>\n",
       "      <th>115</th>\n",
       "      <th>116</th>\n",
       "      <th>117</th>\n",
       "      <th>type</th>\n",
       "    </tr>\n",
       "  </thead>\n",
       "  <tbody>\n",
       "    <tr>\n",
       "      <th>0</th>\n",
       "      <td>0</td>\n",
       "      <td>0.1290</td>\n",
       "      <td>-0.2160</td>\n",
       "      <td>0.2880</td>\n",
       "      <td>0.2370</td>\n",
       "      <td>-0.993</td>\n",
       "      <td>-0.9550</td>\n",
       "      <td>-1.620</td>\n",
       "      <td>-1.470</td>\n",
       "      <td>-1.0100</td>\n",
       "      <td>...</td>\n",
       "      <td>-1.1900</td>\n",
       "      <td>1.1000</td>\n",
       "      <td>0.395</td>\n",
       "      <td>2.060</td>\n",
       "      <td>-1.180</td>\n",
       "      <td>-2.8500</td>\n",
       "      <td>-1.290</td>\n",
       "      <td>-2.100</td>\n",
       "      <td>0.0121</td>\n",
       "      <td>0.0</td>\n",
       "    </tr>\n",
       "    <tr>\n",
       "      <th>1</th>\n",
       "      <td>1</td>\n",
       "      <td>0.0989</td>\n",
       "      <td>0.1160</td>\n",
       "      <td>0.3130</td>\n",
       "      <td>0.2810</td>\n",
       "      <td>-0.188</td>\n",
       "      <td>-0.2790</td>\n",
       "      <td>0.173</td>\n",
       "      <td>0.445</td>\n",
       "      <td>0.4320</td>\n",
       "      <td>...</td>\n",
       "      <td>-0.0181</td>\n",
       "      <td>0.2480</td>\n",
       "      <td>-0.869</td>\n",
       "      <td>-0.190</td>\n",
       "      <td>0.451</td>\n",
       "      <td>0.6980</td>\n",
       "      <td>0.363</td>\n",
       "      <td>1.030</td>\n",
       "      <td>-0.2490</td>\n",
       "      <td>0.0</td>\n",
       "    </tr>\n",
       "    <tr>\n",
       "      <th>2</th>\n",
       "      <td>2</td>\n",
       "      <td>0.0215</td>\n",
       "      <td>0.1590</td>\n",
       "      <td>0.5790</td>\n",
       "      <td>0.5020</td>\n",
       "      <td>-0.342</td>\n",
       "      <td>-0.2740</td>\n",
       "      <td>-0.172</td>\n",
       "      <td>-0.164</td>\n",
       "      <td>0.2160</td>\n",
       "      <td>...</td>\n",
       "      <td>0.0702</td>\n",
       "      <td>0.0200</td>\n",
       "      <td>0.397</td>\n",
       "      <td>-0.800</td>\n",
       "      <td>0.173</td>\n",
       "      <td>0.7380</td>\n",
       "      <td>0.465</td>\n",
       "      <td>0.440</td>\n",
       "      <td>-0.2880</td>\n",
       "      <td>0.0</td>\n",
       "    </tr>\n",
       "    <tr>\n",
       "      <th>3</th>\n",
       "      <td>3</td>\n",
       "      <td>-0.2170</td>\n",
       "      <td>-0.3570</td>\n",
       "      <td>-0.0539</td>\n",
       "      <td>-0.0688</td>\n",
       "      <td>0.445</td>\n",
       "      <td>0.6380</td>\n",
       "      <td>0.436</td>\n",
       "      <td>0.351</td>\n",
       "      <td>0.0401</td>\n",
       "      <td>...</td>\n",
       "      <td>NaN</td>\n",
       "      <td>0.0622</td>\n",
       "      <td>0.269</td>\n",
       "      <td>-0.217</td>\n",
       "      <td>-1.030</td>\n",
       "      <td>0.0276</td>\n",
       "      <td>0.472</td>\n",
       "      <td>-0.390</td>\n",
       "      <td>0.3660</td>\n",
       "      <td>0.0</td>\n",
       "    </tr>\n",
       "    <tr>\n",
       "      <th>4</th>\n",
       "      <td>4</td>\n",
       "      <td>-0.0846</td>\n",
       "      <td>0.0166</td>\n",
       "      <td>0.4240</td>\n",
       "      <td>0.3520</td>\n",
       "      <td>-0.259</td>\n",
       "      <td>-0.0947</td>\n",
       "      <td>0.119</td>\n",
       "      <td>-0.162</td>\n",
       "      <td>0.3020</td>\n",
       "      <td>...</td>\n",
       "      <td>0.7190</td>\n",
       "      <td>0.3250</td>\n",
       "      <td>-0.286</td>\n",
       "      <td>-0.528</td>\n",
       "      <td>-0.704</td>\n",
       "      <td>0.8530</td>\n",
       "      <td>0.953</td>\n",
       "      <td>-0.116</td>\n",
       "      <td>-0.1190</td>\n",
       "      <td>0.0</td>\n",
       "    </tr>\n",
       "  </tbody>\n",
       "</table>\n",
       "<p>5 rows × 119 columns</p>\n",
       "</div>"
      ],
      "text/plain": [
       "   Unnamed: 0       1       2       3       4      5       6      7      8  \\\n",
       "0           0  0.1290 -0.2160  0.2880  0.2370 -0.993 -0.9550 -1.620 -1.470   \n",
       "1           1  0.0989  0.1160  0.3130  0.2810 -0.188 -0.2790  0.173  0.445   \n",
       "2           2  0.0215  0.1590  0.5790  0.5020 -0.342 -0.2740 -0.172 -0.164   \n",
       "3           3 -0.2170 -0.3570 -0.0539 -0.0688  0.445  0.6380  0.436  0.351   \n",
       "4           4 -0.0846  0.0166  0.4240  0.3520 -0.259 -0.0947  0.119 -0.162   \n",
       "\n",
       "        9  ...     109     110    111    112    113     114    115    116  \\\n",
       "0 -1.0100  ... -1.1900  1.1000  0.395  2.060 -1.180 -2.8500 -1.290 -2.100   \n",
       "1  0.4320  ... -0.0181  0.2480 -0.869 -0.190  0.451  0.6980  0.363  1.030   \n",
       "2  0.2160  ...  0.0702  0.0200  0.397 -0.800  0.173  0.7380  0.465  0.440   \n",
       "3  0.0401  ...     NaN  0.0622  0.269 -0.217 -1.030  0.0276  0.472 -0.390   \n",
       "4  0.3020  ...  0.7190  0.3250 -0.286 -0.528 -0.704  0.8530  0.953 -0.116   \n",
       "\n",
       "      117  type  \n",
       "0  0.0121   0.0  \n",
       "1 -0.2490   0.0  \n",
       "2 -0.2880   0.0  \n",
       "3  0.3660   0.0  \n",
       "4 -0.1190   0.0  \n",
       "\n",
       "[5 rows x 119 columns]"
      ]
     },
     "execution_count": 35,
     "metadata": {},
     "output_type": "execute_result"
    }
   ],
   "source": [
    "df.head()"
   ]
  },
  {
   "cell_type": "code",
   "execution_count": 36,
   "metadata": {},
   "outputs": [],
   "source": [
    "from sklearn.metrics import accuracy_score\n",
    "from sklearn.metrics import precision_score"
   ]
  },
  {
   "cell_type": "code",
   "execution_count": 37,
   "metadata": {},
   "outputs": [],
   "source": [
    "y_train = data_train['type'].values\n",
    "X_train = data_train.values\n",
    "y_train = y_train.reshape(len(y_train), 1)\n",
    "\n",
    "y_test = data_test['type'].values\n",
    "X_test = data_test.values\n",
    "y_test = y_test.reshape(len(y_test), 1)"
   ]
  },
  {
   "cell_type": "code",
   "execution_count": 38,
   "metadata": {},
   "outputs": [
    {
     "name": "stderr",
     "output_type": "stream",
     "text": [
      "c:\\users\\ravalish\\appdata\\local\\programs\\python\\python37-32\\lib\\site-packages\\sklearn\\utils\\validation.py:724: DataConversionWarning: A column-vector y was passed when a 1d array was expected. Please change the shape of y to (n_samples, ), for example using ravel().\n",
      "  y = column_or_1d(y, warn=True)\n",
      "c:\\users\\ravalish\\appdata\\local\\programs\\python\\python37-32\\lib\\site-packages\\sklearn\\linear_model\\logistic.py:947: ConvergenceWarning: lbfgs failed to converge. Increase the number of iterations.\n",
      "  \"of iterations.\", ConvergenceWarning)\n"
     ]
    }
   ],
   "source": [
    "from sklearn.linear_model import LogisticRegression\n",
    "\n",
    "clf = LogisticRegression(random_state=0, solver='lbfgs', multi_class='multinomial').fit(X_train, y_train)"
   ]
  },
  {
   "cell_type": "code",
   "execution_count": 39,
   "metadata": {},
   "outputs": [
    {
     "name": "stdout",
     "output_type": "stream",
     "text": [
      "\n",
      "\n",
      "Estimated beta1: \n",
      " [[-4.23362759e-04  5.18647443e-03 -8.13597874e-02  2.80502238e-02\n",
      "   1.13591745e-02 -1.60044777e-01 -1.35195165e-01  3.36920726e-02\n",
      "  -1.64895008e-01  6.08778596e-01  1.60320745e-01 -3.13707456e-01\n",
      "  -2.22997469e-01 -1.86377458e-01  1.81507460e-01 -1.67690351e-01\n",
      "  -8.90359684e-02 -2.23795815e-01 -3.25511233e-01  1.72363328e-02\n",
      "  -5.14526292e-01 -4.31708587e-01 -7.83337048e-02  1.43217867e-01\n",
      "   1.89260820e-01  1.62010266e-01 -5.18818607e-03  1.02969773e-01\n",
      "   3.99353864e-02  1.23645682e-01  2.25257543e-02  2.04519198e-01\n",
      "   2.63962516e-01  7.05863768e-02  9.52825182e-02 -1.73820599e-01\n",
      "  -1.11501215e-01  3.39862407e-02  4.31584304e-02  1.06184054e-01\n",
      "   1.55740326e-01  2.06765230e-02  2.89268092e-02  4.93937873e-02\n",
      "  -8.10973654e-02 -8.49061157e-02 -5.27795778e-02  1.71958111e-01\n",
      "   4.19900395e-02  5.01575614e-02 -1.22354373e-01  4.57067774e-02\n",
      "  -2.33390788e-01 -2.14080937e-02  2.70661635e-02  1.79611507e-02\n",
      "   1.11413150e-02  2.55573588e-04  1.32669654e-01 -2.02987315e-01\n",
      "   1.08046916e-01 -1.25302371e-01  1.03524016e-01  9.53154576e-02\n",
      "   9.48843234e-02  9.74033869e-02  3.12874693e-03 -2.73005628e-02\n",
      "  -3.23550906e-01 -2.62186921e-02 -1.75361753e-02 -1.10912864e-01\n",
      "  -8.24971269e-03 -9.21601665e-02  6.63817938e-03  3.09190115e-03\n",
      "  -2.59619645e-03 -4.62190645e-02 -2.70492074e-01 -1.34860725e-01\n",
      "   7.59932094e-02  5.96021756e-02  1.91478908e-02  1.18496884e-01\n",
      "  -1.17735360e-01 -1.29595843e-01 -9.41612643e-02 -9.00997705e-02\n",
      "  -7.70041807e-02 -5.66925355e-02 -2.10289248e-01 -2.07308294e-01\n",
      "  -2.07418486e-01 -8.57617297e-02  1.82513066e-02 -1.02235376e-01\n",
      "   1.01002055e-01 -4.21351841e-02  2.21871830e-02  6.25345697e-02\n",
      "   9.83970452e-02 -1.05125966e-01 -7.47807291e-02 -7.43482263e-02\n",
      "   1.57866541e-01 -5.82345168e-02  1.93056890e-02 -2.31029326e-01\n",
      "   6.21349234e-02 -3.02178232e-01 -5.72724629e-02 -2.31949297e-01\n",
      "   9.75569680e-02  1.35814720e-01 -2.38963012e-02  1.67366130e-01\n",
      "   2.55268820e-02 -1.07198137e-01  3.70956460e-01]]\n",
      "Estimated beta0: \n",
      " [-2.61458906]\n",
      "\n",
      "\n",
      "Test Set Confusion matrix:\n",
      "[[323   2]\n",
      " [  1   0]]\n",
      "The training classification accuracy is:  1.0\n",
      "The testing classification accuracy is:  0.99079754601227\n",
      "The precision score on the test set is:  0.0\n"
     ]
    }
   ],
   "source": [
    "# L2 Regularization parameter\n",
    "print('\\n')\n",
    "# print(\"The optimized L2 regularization paramater id:\", clf.C_)\n",
    "\n",
    "# The coefficients\n",
    "print('Estimated beta1: \\n', clf.coef_)\n",
    "print('Estimated beta0: \\n', clf.intercept_)\n",
    "\n",
    "# Metrics\n",
    "print('\\n')\n",
    "print('Test Set Confusion matrix:') \n",
    "print(confusion_matrix(y_test, clf.predict(X_test)))\n",
    "\n",
    "train_score = clf.score(X_train, y_train)\n",
    "test_score = clf.score(X_test, y_test)\n",
    "y_prediction = clf.predict(X_test)\n",
    "test_precision = precision_score(y_test, y_prediction)\n",
    "print('The training classification accuracy is: ', train_score)\n",
    "print('The testing classification accuracy is: ', test_score)\n",
    "print('The precision score on the test set is: ', test_precision)"
   ]
  },
  {
   "cell_type": "code",
   "execution_count": 40,
   "metadata": {},
   "outputs": [],
   "source": [
    "#Split the data set into a training set and a testing set\n",
    "np.random.seed(9001)\n",
    "df_2 = pd.read_csv('HW6_dataset_missing.csv')\n",
    "msk = np.random.rand(len(df)) < 0.75\n",
    "data_train_2 = df_2[msk]\n",
    "data_test_2 = df_2[~msk]"
   ]
  },
  {
   "cell_type": "code",
   "execution_count": 41,
   "metadata": {},
   "outputs": [
    {
     "name": "stderr",
     "output_type": "stream",
     "text": [
      "c:\\users\\ravalish\\appdata\\local\\programs\\python\\python37-32\\lib\\site-packages\\ipykernel_launcher.py:2: SettingWithCopyWarning: \n",
      "A value is trying to be set on a copy of a slice from a DataFrame.\n",
      "Try using .loc[row_indexer,col_indexer] = value instead\n",
      "\n",
      "See the caveats in the documentation: http://pandas.pydata.org/pandas-docs/stable/indexing.html#indexing-view-versus-copy\n",
      "  \n",
      "c:\\users\\ravalish\\appdata\\local\\programs\\python\\python37-32\\lib\\site-packages\\ipykernel_launcher.py:4: SettingWithCopyWarning: \n",
      "A value is trying to be set on a copy of a slice from a DataFrame.\n",
      "Try using .loc[row_indexer,col_indexer] = value instead\n",
      "\n",
      "See the caveats in the documentation: http://pandas.pydata.org/pandas-docs/stable/indexing.html#indexing-view-versus-copy\n",
      "  after removing the cwd from sys.path.\n"
     ]
    }
   ],
   "source": [
    "for column in data_train_2:\n",
    "    data_train_2[column] = data_train_2[column].fillna(data_train_2[column].mean())\n",
    "for column in data_test_2:\n",
    "    data_test_2[column] = data_test_2[column].fillna(data_train_2[column].mean())\n",
    "    \n",
    "y_train = data_train_2['type'].values\n",
    "X_train = data_train_2.values\n",
    "y_train = y_train.reshape(len(y_train), 1)\n",
    "\n",
    "y_test = data_test_2['type'].values\n",
    "X_test = data_test_2.values\n",
    "y_test = y_test.reshape(len(y_test), 1)"
   ]
  },
  {
   "cell_type": "code",
   "execution_count": 42,
   "metadata": {},
   "outputs": [
    {
     "name": "stderr",
     "output_type": "stream",
     "text": [
      "c:\\users\\ravalish\\appdata\\local\\programs\\python\\python37-32\\lib\\site-packages\\sklearn\\utils\\validation.py:724: DataConversionWarning: A column-vector y was passed when a 1d array was expected. Please change the shape of y to (n_samples, ), for example using ravel().\n",
      "  y = column_or_1d(y, warn=True)\n"
     ]
    },
    {
     "name": "stdout",
     "output_type": "stream",
     "text": [
      "\n",
      "\n",
      "Estimated beta1: \n",
      " [[-1.63901582e-05 -1.55282315e-03 -1.99064279e-03  1.03779527e-01\n",
      "   7.64626701e-02 -2.00517248e-01 -1.96287141e-01 -4.18500214e-02\n",
      "  -8.89562911e-02  3.42150432e-01  2.08846592e-01  6.12377623e-02\n",
      "   1.31448038e-01 -1.11130784e-01  3.22958695e-02 -4.23945939e-02\n",
      "  -1.01480556e-01  2.64998413e-02 -2.94004241e-02  2.62305866e-02\n",
      "  -1.33106715e-01 -1.60125159e-01 -1.95945463e-01 -1.21913049e-03\n",
      "   1.56223221e-01  8.04218258e-02  7.32193659e-03 -5.17772296e-02\n",
      "  -8.50776117e-04 -4.96040815e-02  1.95279402e-02  4.61375442e-02\n",
      "  -1.06084486e-02 -2.13990666e-02 -2.66918207e-03 -1.98491068e-01\n",
      "   4.84113448e-02 -1.01344873e-02 -9.58856960e-03  7.76796516e-03\n",
      "   1.02213102e-01 -8.30882050e-02 -8.76353877e-02 -8.78448058e-02\n",
      "   3.53440801e-02  9.38535277e-02  9.10695986e-02 -7.88537943e-02\n",
      "  -4.25337681e-02 -3.25301330e-02 -1.93067664e-02 -2.92546058e-02\n",
      "  -7.82481127e-02 -9.25980069e-02 -2.38469901e-02 -2.18012311e-02\n",
      "  -1.83990868e-02 -1.57250383e-02  1.01034624e-01 -1.06522756e-01\n",
      "   8.08647470e-02 -2.11490052e-02  8.06912331e-02  8.28257585e-02\n",
      "   8.53752033e-02  8.81305217e-02 -4.17426411e-03  2.34691646e-02\n",
      "  -8.79299497e-02 -1.44076501e-02 -1.07994982e-02 -1.57278883e-02\n",
      "  -8.19880615e-03 -5.12003817e-02  8.35984803e-02  8.03969822e-02\n",
      "   7.67125406e-02  9.53320278e-02  7.62078527e-02 -9.00466453e-02\n",
      "   4.29620099e-03 -2.67820760e-03  1.85238579e-02  1.99959467e-02\n",
      "  -5.81884598e-02 -6.63591793e-02  5.91681625e-03  5.27358500e-03\n",
      "   4.53089224e-03 -6.50770039e-02 -4.38214538e-02 -4.26702455e-02\n",
      "  -4.16200564e-02 -6.74677892e-02  1.50098513e-01 -2.80391278e-02\n",
      "  -6.05863944e-03 -8.83054728e-02  6.58093694e-02  2.39488266e-02\n",
      "  -2.93367065e-02 -5.19284444e-02 -4.69508799e-02 -9.81318345e-02\n",
      "   3.14618275e-03 -1.41127041e-01 -1.29721448e-01 -6.73372381e-02\n",
      "   9.03705838e-02  4.65315437e-02 -1.07636006e-01 -1.49553526e-01\n",
      "   1.70784721e-02  1.17966720e-03 -3.33878296e-03  9.16796182e-03\n",
      "   5.09910190e-02 -5.13541137e-02  6.23686886e-01]]\n",
      "Estimated beta0: \n",
      " [-3.61490693]\n",
      "\n",
      "\n",
      "Test Set Confusion matrix:\n",
      "[[6067    7]\n",
      " [  38   13]]\n",
      "The training classification accuracy is:  0.9948606548691321\n",
      "The testing classification accuracy is:  0.9926530612244898\n",
      "The precision score on the test set is:  0.65\n"
     ]
    },
    {
     "name": "stderr",
     "output_type": "stream",
     "text": [
      "c:\\users\\ravalish\\appdata\\local\\programs\\python\\python37-32\\lib\\site-packages\\sklearn\\linear_model\\logistic.py:947: ConvergenceWarning: lbfgs failed to converge. Increase the number of iterations.\n",
      "  \"of iterations.\", ConvergenceWarning)\n"
     ]
    }
   ],
   "source": [
    "from sklearn.linear_model import LogisticRegression\n",
    "\n",
    "clf = LogisticRegression(random_state=0, solver='lbfgs', multi_class='multinomial').fit(X_train, y_train)\n",
    "\n",
    "\n",
    "# L2 Regularization parameter\n",
    "print('\\n')\n",
    "# print(\"The optimized L2 regularization paramater id:\", clf.C_)\n",
    "\n",
    "# The coefficients\n",
    "print('Estimated beta1: \\n', clf.coef_)\n",
    "print('Estimated beta0: \\n', clf.intercept_)\n",
    "\n",
    "# Metrics\n",
    "print('\\n')\n",
    "print('Test Set Confusion matrix:') \n",
    "print(confusion_matrix(y_test, clf.predict(X_test)))\n",
    "\n",
    "train_score = clf.score(X_train, y_train)\n",
    "test_score = clf.score(X_test, y_test)\n",
    "y_prediction = clf.predict(X_test)\n",
    "test_precision = precision_score(y_test, y_prediction)\n",
    "print('The training classification accuracy is: ', train_score)\n",
    "print('The testing classification accuracy is: ', test_score)\n",
    "print('The precision score on the test set is: ', test_precision)"
   ]
  }
 ],
 "metadata": {
  "anaconda-cloud": {},
  "kernelspec": {
   "display_name": "Python 3",
   "language": "python",
   "name": "python3"
  },
  "language_info": {
   "codemirror_mode": {
    "name": "ipython",
    "version": 3
   },
   "file_extension": ".py",
   "mimetype": "text/x-python",
   "name": "python",
   "nbconvert_exporter": "python",
   "pygments_lexer": "ipython3",
   "version": "3.7.2"
  }
 },
 "nbformat": 4,
 "nbformat_minor": 1
}
